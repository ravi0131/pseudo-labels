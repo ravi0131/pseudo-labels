{
 "cells": [
  {
   "cell_type": "markdown",
   "metadata": {},
   "source": [
    "This notebook is to prototype for a script that performs grid search for filtering narrow rectangles"
   ]
  },
  {
   "cell_type": "code",
   "execution_count": 1,
   "metadata": {},
   "outputs": [],
   "source": [
    "import sys\n",
    "import os\n",
    "\n",
    "# Add the src directory to the Python path\n",
    "sys.path.append(os.path.abspath(\"..\"))"
   ]
  },
  {
   "cell_type": "markdown",
   "metadata": {},
   "source": [
    "All Imports"
   ]
  },
  {
   "cell_type": "code",
   "execution_count": 2,
   "metadata": {},
   "outputs": [],
   "source": [
    "import numpy as np\n",
    "import pandas as pd\n",
    "from config import CONFIG"
   ]
  },
  {
   "cell_type": "markdown",
   "metadata": {},
   "source": [
    "Directory structue\n",
    "+ ar_threshold_0.1\n",
    "++ area_threshold_0\n",
    "    + scene_00\n",
    "        + frame_00\n",
    "            + selected_boxes\n",
    "            + discarded_boxes\n",
    "        + frame_01\n",
    "        + ..\n",
    "    + scene_01\n",
    "    + ...\n",
    "++ area_threshold_10\n",
    "++ area_threhold_20\n",
    "++ ...\n",
    "\n",
    "If you save the filtered bboxes according to this structure, then you can calculate the metrics for a given combination for all frame in all scenes. "
   ]
  },
  {
   "cell_type": "code",
   "execution_count": 3,
   "metadata": {},
   "outputs": [],
   "source": [
    "home = os.path.join(os.path.expanduser(\"~\"), CONFIG['HOME_PATH'][CONFIG['OS']])\n",
    "\n",
    "ps_base_path = os.path.join(home, *CONFIG['BBOX_FILE_PATHS']['ROI'])\n",
    "if CONFIG['ROI']:\n",
    "    grid_rect_save_path = os.path.join(home, *CONFIG['GRID_SEARCH_RECT']['PATH']['ROI'])\n",
    "else:\n",
    "    grid_rect_save_path = os.path.join(home, *CONFIG['GRID_SEARCH_RECT']['PATH']['FULL_RANGE'])\n",
    "\n",
    "scene_idx = 0\n",
    "frame_idx = 0\n"
   ]
  },
  {
   "cell_type": "code",
   "execution_count": 4,
   "metadata": {},
   "outputs": [],
   "source": [
    "aspect_ratio_config = CONFIG['GRID_SEARCH_RECT']['ASPECT_RATIO']\n",
    "area_config = CONFIG['GRID_SEARCH_RECT']['AREA']\n",
    "rect_ar_range = np.arange(*aspect_ratio_config['RANGE'], aspect_ratio_config['STEP'])\n",
    "rect_area_range = np.arange(*area_config['RANGE'], area_config['STEP'])"
   ]
  },
  {
   "cell_type": "code",
   "execution_count": 5,
   "metadata": {},
   "outputs": [],
   "source": [
    "scene_id = os.listdir(ps_base_path)[scene_idx]\n",
    "scene_path= os.path.join(ps_base_path, scene_id)\n",
    "\n",
    "frame_id = os.listdir(scene_path)[frame_idx]\n",
    "frame_path = os.path.join(scene_path, frame_id)"
   ]
  },
  {
   "cell_type": "code",
   "execution_count": 22,
   "metadata": {},
   "outputs": [],
   "source": [
    "def apply_rect_filter(df, aspect_ratio_col, area_col, min_ratio, min_area):\n",
    "    \"\"\"\n",
    "    Filters bounding boxes based on aspect ratio and area thresholds.\n",
    "\n",
    "    Args:\n",
    "        df (pd.DataFrame): DataFrame containing bounding box information.\n",
    "        aspect_ratio_col (str): Column name for aspect ratios in the DataFrame.\n",
    "        area_col (str): Column name for areas in the DataFrame.\n",
    "        min_ratio (float): Minimum aspect ratio for filtering bounding boxes.\n",
    "        min_area (float): Minimum area for filtering bounding boxes.\n",
    "\n",
    "    Returns:\n",
    "        tuple: (selected_boxes, discarded_boxes)\n",
    "            - selected_boxes (pd.DataFrame): Subset of the DataFrame with bounding boxes that satisfy the conditions.\n",
    "            - discarded_boxes (pd.DataFrame): Subset of the DataFrame with bounding boxes that do not satisfy the conditions.\n",
    "    \"\"\"\n",
    "    # Filter the DataFrame based on the conditions\n",
    "    selected_boxes = df[(df[aspect_ratio_col] >= min_ratio) & (df[area_col] >= min_area)]\n",
    "    discarded_boxes = df[(df[aspect_ratio_col] < min_ratio) | (df[area_col] < min_area)]\n",
    "\n",
    "    selected_boxes.reset_index(drop=True, inplace=True)\n",
    "    discarded_boxes.reset_index(drop=True, inplace=True)\n",
    "    \n",
    "    return selected_boxes, discarded_boxes\n"
   ]
  },
  {
   "cell_type": "markdown",
   "metadata": {},
   "source": [
    "Define functions to filter by aspect ratio and area for a given values of thresholds"
   ]
  },
  {
   "cell_type": "code",
   "execution_count": null,
   "metadata": {},
   "outputs": [],
   "source": [
    "def grid_search_rect_filter(input_path, ar_range, area_range,base_save_path ,config):\n",
    "    # print(f\"Processing {input_frame_path}\")\n",
    "    aspect_ratio_dir = config['GRID_SEARCH_RECT']['AR_THRESHOLD_BASE_DIR_NAME']\n",
    "    area_dir = config['GRID_SEARCH_RECT']['AREA_THRESHOLD_BASE_DIR_NAME']\n",
    "    for _, aspect_ratio in enumerate(ar_range):\n",
    "        ar_dir_name = f\"{aspect_ratio_dir}_{aspect_ratio:.1f}\"\n",
    "        \n",
    "        for _, area in enumerate(area_range):\n",
    "            area_dir_name = f\"{area_dir}_{area}\"\n",
    "            \n",
    "            for scene in os.listdir(input_path):\n",
    "                scene_path = os.path.join(input_path, scene)    \n",
    "                \n",
    "                for frame in os.listdir(scene_path):\n",
    "                    frame_id = frame.split(\".\")[0]\n",
    "                    frame_path = os.path.join(scene_path, frame)\n",
    "                    \n",
    "                    # print(f\"Processing {frame_path}\")\n",
    "                    # print(f\"Aspect Ratio: {aspect_ratio}, Area: {area}\")\n",
    "                    df = pd.read_feather(frame_path)\n",
    "                    \n",
    "                    df['aspect_ratio'] = df['box_width'] /df['box_length']\n",
    "                    df['area'] = df['box_width'] * df['box_length']\n",
    "                    selected_boxes_df, discarded_boxes_df = apply_rect_filter(df, 'aspect_ratio', 'area', aspect_ratio, area)\n",
    "                    \n",
    "                    # print(selected_boxes_df.head())\n",
    "                    # print(discarded_boxes_df.head())\n",
    "                    save_path = os.path.join(base_save_path, ar_dir_name, area_dir_name, scene, frame_id)\n",
    "                    # print(save_path)\n",
    "                    os.makedirs(save_path, exist_ok=True)\n",
    "                    \n",
    "                    selected_boxes_df.to_feather(os.path.join(save_path, \"selected_boxes.feather\"))\n",
    "                    discarded_boxes_df.to_feather(os.path.join(save_path, \"discarded_boxes.feather\"))"
   ]
  },
  {
   "cell_type": "code",
   "execution_count": 37,
   "metadata": {},
   "outputs": [],
   "source": [
    "grid_search_rect_filter(ps_base_path, rect_ar_range, rect_area_range, grid_rect_save_path, CONFIG)"
   ]
  },
  {
   "cell_type": "code",
   "execution_count": null,
   "metadata": {},
   "outputs": [
    {
     "data": {
      "text/plain": [
       "'315974909559984000.feather'"
      ]
     },
     "execution_count": 11,
     "metadata": {},
     "output_type": "execute_result"
    }
   ],
   "source": []
  }
 ],
 "metadata": {
  "kernelspec": {
   "display_name": "pixo",
   "language": "python",
   "name": "python3"
  },
  "language_info": {
   "codemirror_mode": {
    "name": "ipython",
    "version": 3
   },
   "file_extension": ".py",
   "mimetype": "text/x-python",
   "name": "python",
   "nbconvert_exporter": "python",
   "pygments_lexer": "ipython3",
   "version": "3.8.18"
  }
 },
 "nbformat": 4,
 "nbformat_minor": 2
}
