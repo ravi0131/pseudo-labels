{
 "cells": [
  {
   "cell_type": "code",
   "execution_count": 8,
   "metadata": {},
   "outputs": [],
   "source": [
    "import sys\n",
    "import os\n",
    "\n",
    "# Add the src directory to the Python path\n",
    "sys.path.append(os.path.abspath(\"..\"))"
   ]
  },
  {
   "cell_type": "code",
   "execution_count": 9,
   "metadata": {},
   "outputs": [],
   "source": [
    "import os\n",
    "from av2.datasets.sensor.av2_sensor_dataloader import AV2SensorDataLoader\n",
    "from pathlib import Path\n",
    "from av2.structures.sweep import Sweep\n",
    "\n",
    "\n",
    "home = os.path.join(os.path.expanduser('~'), \"buni\")\n",
    "\n",
    "dataset_path = Path(os.path.join(home, \"dataset\", \"av2\", \"train\"))\n",
    "\n",
    "av2 = AV2SensorDataLoader(data_dir=dataset_path, labels_dir=dataset_path)\n",
    "\n",
    "scene_idx = 0\n",
    "frame_idx = 0\n",
    "\n",
    "scene_id = av2.get_log_ids()[scene_idx]\n",
    "frame_id = av2.get_ordered_log_lidar_timestamps(scene_id)[frame_idx]\n",
    "frame_path = av2.get_lidar_fpath_at_lidar_timestamp(scene_id, frame_id)\n",
    "\n",
    "points = Sweep.from_feather(frame_path).xyz"
   ]
  },
  {
   "cell_type": "code",
   "execution_count": 10,
   "metadata": {},
   "outputs": [],
   "source": [
    "import os\n",
    "import pandas as pd\n",
    "import numpy as np\n",
    "import matplotlib.pyplot as plt\n",
    "\n",
    "home = os.path.join(os.path.expanduser('~'), \"buni\")\n",
    "\n",
    "ge_path = os.path.join(home, \"output-data\", \"av2\", \"test_bbox_script\")\n",
    "\n",
    "scene_idx = 0\n",
    "frame_idx = 0\n",
    "\n",
    "scene_id = os.listdir(ge_path)[scene_idx]\n",
    "scene_path = os.path.join(ge_path, scene_id)\n",
    "\n",
    "frame_id = os.listdir(scene_path)[frame_idx]\n",
    "frame_path = os.path.join(ge_path, scene_id, frame_id)\n"
   ]
  },
  {
   "cell_type": "code",
   "execution_count": 15,
   "metadata": {},
   "outputs": [
    {
     "data": {
      "text/html": [
       "<div>\n",
       "<style scoped>\n",
       "    .dataframe tbody tr th:only-of-type {\n",
       "        vertical-align: middle;\n",
       "    }\n",
       "\n",
       "    .dataframe tbody tr th {\n",
       "        vertical-align: top;\n",
       "    }\n",
       "\n",
       "    .dataframe thead th {\n",
       "        text-align: right;\n",
       "    }\n",
       "</style>\n",
       "<table border=\"1\" class=\"dataframe\">\n",
       "  <thead>\n",
       "    <tr style=\"text-align: right;\">\n",
       "      <th></th>\n",
       "      <th>box_center_x</th>\n",
       "      <th>box_center_y</th>\n",
       "      <th>box_length</th>\n",
       "      <th>box_width</th>\n",
       "      <th>ry</th>\n",
       "    </tr>\n",
       "  </thead>\n",
       "  <tbody>\n",
       "    <tr>\n",
       "      <th>0</th>\n",
       "      <td>-42.110382</td>\n",
       "      <td>38.897496</td>\n",
       "      <td>1.009327</td>\n",
       "      <td>0.955779</td>\n",
       "      <td>0.349066</td>\n",
       "    </tr>\n",
       "    <tr>\n",
       "      <th>1</th>\n",
       "      <td>-52.019619</td>\n",
       "      <td>37.473747</td>\n",
       "      <td>15.549693</td>\n",
       "      <td>12.685953</td>\n",
       "      <td>0.174533</td>\n",
       "    </tr>\n",
       "    <tr>\n",
       "      <th>2</th>\n",
       "      <td>-41.435787</td>\n",
       "      <td>47.597701</td>\n",
       "      <td>1.691592</td>\n",
       "      <td>1.296992</td>\n",
       "      <td>3.054326</td>\n",
       "    </tr>\n",
       "    <tr>\n",
       "      <th>3</th>\n",
       "      <td>-49.756678</td>\n",
       "      <td>50.498776</td>\n",
       "      <td>4.610475</td>\n",
       "      <td>2.785177</td>\n",
       "      <td>1.919862</td>\n",
       "    </tr>\n",
       "    <tr>\n",
       "      <th>4</th>\n",
       "      <td>-23.548099</td>\n",
       "      <td>29.113384</td>\n",
       "      <td>1.747858</td>\n",
       "      <td>1.633463</td>\n",
       "      <td>0.261799</td>\n",
       "    </tr>\n",
       "  </tbody>\n",
       "</table>\n",
       "</div>"
      ],
      "text/plain": [
       "   box_center_x  box_center_y  box_length  box_width        ry\n",
       "0    -42.110382     38.897496    1.009327   0.955779  0.349066\n",
       "1    -52.019619     37.473747   15.549693  12.685953  0.174533\n",
       "2    -41.435787     47.597701    1.691592   1.296992  3.054326\n",
       "3    -49.756678     50.498776    4.610475   2.785177  1.919862\n",
       "4    -23.548099     29.113384    1.747858   1.633463  0.261799"
      ]
     },
     "execution_count": 15,
     "metadata": {},
     "output_type": "execute_result"
    }
   ],
   "source": [
    "bboxes_df = pd.read_feather(frame_path)\n",
    "bboxes_df.head()"
   ]
  },
  {
   "cell_type": "code",
   "execution_count": 23,
   "metadata": {},
   "outputs": [],
   "source": [
    "from prototype_utils import get_bbox_corners\n",
    "bboxes_lst = []\n",
    "for idx, row in bboxes_df.iterrows():\n",
    "    corners = get_bbox_corners((row['box_center_x'],\n",
    "                               row['box_center_y'],\n",
    "                               row['box_length'],\n",
    "                               row['box_width'],\n",
    "                               row['ry']))\n",
    "    bboxes_lst.append(corners)\n",
    "\n",
    "bboxes_np = np.array(bboxes_lst)"
   ]
  },
  {
   "cell_type": "code",
   "execution_count": null,
   "metadata": {},
   "outputs": [],
   "source": [
    "from prototype_utils import plot_point_cloud_and_bboxes\n",
    "\n",
    "plot_point_cloud_and_bboxes(points[:, :2], bboxes_np, fig_size=(10,10))"
   ]
  }
 ],
 "metadata": {
  "kernelspec": {
   "display_name": "pixo",
   "language": "python",
   "name": "python3"
  },
  "language_info": {
   "codemirror_mode": {
    "name": "ipython",
    "version": 3
   },
   "file_extension": ".py",
   "mimetype": "text/x-python",
   "name": "python",
   "nbconvert_exporter": "python",
   "pygments_lexer": "ipython3",
   "version": "3.8.18"
  }
 },
 "nbformat": 4,
 "nbformat_minor": 2
}
