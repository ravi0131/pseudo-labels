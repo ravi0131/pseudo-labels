{
 "cells": [
  {
   "cell_type": "markdown",
   "metadata": {},
   "source": [
    "This is a notebook to write code to evaluate the metrics between pseudo-labels, refined pseudo-labels (statistic) and ground truth\n"
   ]
  },
  {
   "cell_type": "code",
   "execution_count": 2,
   "metadata": {},
   "outputs": [],
   "source": [
    "import sys\n",
    "import os\n",
    "\n",
    "# Add the src directory to the Python path\n",
    "sys.path.append(os.path.abspath(\"..\"))"
   ]
  },
  {
   "cell_type": "markdown",
   "metadata": {},
   "source": [
    "Load the scene_id and frame_id"
   ]
  },
  {
   "cell_type": "code",
   "execution_count": 3,
   "metadata": {},
   "outputs": [
    {
     "name": "stdout",
     "output_type": "stream",
     "text": [
      "filtered_bboxes_ff8e7fdb-1073-3592-ba5e-8111bc3ce48b_315968523660078000.feather\n"
     ]
    }
   ],
   "source": [
    "# print(os.listdir(os.getcwd()))\n",
    "feather_file = os.listdir(os.getcwd())[1]\n",
    "#check i fwe have the right file\n",
    "print(feather_file)\n",
    "\n",
    "scene_id = feather_file.split(\"_\")[-2]\n",
    "frame_id = feather_file.split(\"_\")[-1].split(\".\")[0]"
   ]
  },
  {
   "cell_type": "markdown",
   "metadata": {},
   "source": [
    "Load av2_dataloader"
   ]
  },
  {
   "cell_type": "code",
   "execution_count": 4,
   "metadata": {},
   "outputs": [],
   "source": [
    "from av2.datasets.sensor.av2_sensor_dataloader import AV2SensorDataLoader\n",
    "from pathlib import Path\n",
    "from av2.structures.sweep import Sweep\n",
    "\n",
    "\n",
    "home = os.path.join(os.path.expanduser('~'), \"buni\")\n",
    "\n",
    "dataset_path = Path(os.path.join(home, \"dataset\", \"av2\", \"train\"))\n",
    "\n",
    "av2 = AV2SensorDataLoader(data_dir=dataset_path, labels_dir=dataset_path)\n",
    "\n",
    "# frame_path = av2.get_lidar_fpath_at_lidar_timestamp(scene_id, frame_id)"
   ]
  },
  {
   "cell_type": "markdown",
   "metadata": {},
   "source": [
    "Some helper functions to convert gt_lables into 4x2 corner format"
   ]
  },
  {
   "cell_type": "code",
   "execution_count": 5,
   "metadata": {},
   "outputs": [],
   "source": [
    "### create a dataset class to get labels and ground truth\n",
    "import os\n",
    "import pandas as pd\n",
    "import numpy as np \n",
    "from typing import List, Tuple, Dict\n",
    "from av2.datasets.sensor.av2_sensor_dataloader import AV2SensorDataLoader\n",
    "from pathlib import Path\n",
    "\n",
    "    \n",
    "def extract_face_corners(cuboids: np.ndarray, bottom_face=True):\n",
    "    \"\"\"\n",
    "    Extract corner coordinates of top or bottom face from cuboids.\n",
    "    \n",
    "    Args:\n",
    "        cuboids: numpy array of shape (N, 8, 3) containing cuboid corner coordinates\n",
    "        bottom_face: bool, if True return bottom face corners, else top face corners\n",
    "    \n",
    "    Returns:\n",
    "        numpy array of shape (N, 4, 2) containing x,y coordinates of face corners\n",
    "        \n",
    "            5------4\n",
    "            |\\\\    |\\\\\n",
    "            | \\\\   | \\\\\n",
    "            6--\\\\--7  \\\\\n",
    "            \\\\  \\\\  \\\\ \\\\\n",
    "        l    \\\\  1-------0    h\n",
    "        e    \\\\ ||   \\\\ ||   e\n",
    "        n    \\\\||    \\\\||   i\n",
    "        g    \\\\2------3    g\n",
    "            t      width.     h\n",
    "            h.               t\n",
    "    \"\"\"\n",
    "    # Select indices for bottom or top face\n",
    "    face_index = [0, 1, 5, 4] if bottom_face else [3, 2, 6, 7]\n",
    "    \n",
    "    # Extract corners for selected face (x,y coordinates only)\n",
    "    face_corners = cuboids[:, face_index, :2]\n",
    "    \n",
    "    return face_corners\n",
    "\n",
    "def filter_cuboids_by_roi(corners: np.ndarray, config: Dict) -> np.ndarray:\n",
    "    \"\"\"\n",
    "    Filter cuboids based on whether they fall within specified ROI.\n",
    "\n",
    "    Args:\n",
    "        corners: numpy array of shape (N, 4, 2) containing corner coordinates\n",
    "        x_range: tuple of (min_x, max_x) defining ROI x bounds (0,70)\n",
    "        y_range: tuple of (min_y, max_y) defining ROI y bounds  (-40,40)\n",
    "\n",
    "    Returns:\n",
    "        numpy array containing only cuboids that fall within ROI\n",
    "    \"\"\"\n",
    "    \n",
    "    x_min, x_max = config['GT_LABELS_ROI']['x_range']\n",
    "    y_min, y_max = config['GT_LABELS_ROI']['y_range']\n",
    "    \n",
    "    filtered_cuboids = []\n",
    "    for cuboid in corners:\n",
    "        # Check if any corner falls within ROI\n",
    "        if np.any((cuboid[:, 0] >= x_min) & \n",
    "                (cuboid[:, 0] <= x_max) & \n",
    "                (cuboid[:, 1] >= y_min) & \n",
    "                (cuboid[:, 1] <= y_max)):\n",
    "            filtered_cuboids.append(cuboid)\n",
    "    \n",
    "    return np.array(filtered_cuboids)\n",
    "\n",
    "\n",
    "config = {\n",
    "    \"GT_LABELS_ROI\": {\n",
    "        \"x_range\": (0, 70),\n",
    "        \"y_range\": (-40, 40)\n",
    "    }\n",
    "}\n",
    "\n",
    "                "
   ]
  },
  {
   "cell_type": "markdown",
   "metadata": {},
   "source": [
    "load the gt_labels for given scene_id and frame_id, and transform them to right format"
   ]
  },
  {
   "cell_type": "code",
   "execution_count": 7,
   "metadata": {},
   "outputs": [],
   "source": [
    "from config import CONFIG\n",
    "\n",
    "if CONFIG['ROI']: \n",
    "    cuboids = av2.get_labels_at_lidar_timestamp(scene_id, int(frame_id)).vertices_m\n",
    "    filtered_cuboids = filter_cuboids_by_roi(cuboids, config)\n",
    "    gt_corners = extract_face_corners(filtered_cuboids)\n",
    "else:\n",
    "    cuboids = av2.get_labels_at_lidar_timestamp(scene_id, int(frame_id)).vertices_m\n",
    "    gt_corners = extract_face_corners(cuboids)"
   ]
  },
  {
   "cell_type": "markdown",
   "metadata": {},
   "source": [
    "Now we have gt_labels in the correct format. Time to load pseudo_labels and refined pseudo_labels"
   ]
  },
  {
   "cell_type": "code",
   "execution_count": 8,
   "metadata": {},
   "outputs": [
    {
     "data": {
      "text/plain": [
       "('ff8e7fdb-1073-3592-ba5e-8111bc3ce48b', '315968523660078000')"
      ]
     },
     "execution_count": 8,
     "metadata": {},
     "output_type": "execute_result"
    }
   ],
   "source": [
    "scene_id, frame_id"
   ]
  },
  {
   "cell_type": "code",
   "execution_count": 9,
   "metadata": {},
   "outputs": [
    {
     "name": "stdout",
     "output_type": "stream",
     "text": [
      "['ff52c01e-3d7b-32b1-b6a1-bcff3459ccdd', 'ff6adc87-5f47-32f7-b36a-546453c0e332', 'ff8e7fdb-1073-3592-ba5e-8111bc3ce48b']\n",
      "pseudo_label path exists: True\n",
      "C:\\Users\\Ravi\\buni\\output-data\\av2\\bbox_roi\\ff8e7fdb-1073-3592-ba5e-8111bc3ce48b\\315968523660078000.feather\n",
      "refined pseudo_label path exists: True\n",
      "c:\\Users\\Ravi\\buni\\pseudo-labels\\notebooks_experi\\filtered_bboxes_ff8e7fdb-1073-3592-ba5e-8111bc3ce48b_315968523660078000.feather\n"
     ]
    }
   ],
   "source": [
    "home = os.path.join(os.path.expanduser('~'), \"buni\")\n",
    "\n",
    "pseudo_labels_dir = os.path.join(home, \"output-data\", \"av2\", \"bbox_roi\")\n",
    "\n",
    "print(os.listdir(pseudo_labels_dir))\n",
    "\n",
    "scene_path = os.path.join(pseudo_labels_dir, scene_id)\n",
    "psudo_label_path = os.path.join(scene_path, f\"{frame_id}.feather\")\n",
    "print(f\"pseudo_label path exists: {os.path.exists(psudo_label_path)}\")\n",
    "print(psudo_label_path) \n",
    "\n",
    "pseudo_labels_df = pd.read_feather(psudo_label_path)\n",
    "\n",
    "refined_psuedo_label_path = os.path.join(os.getcwd(), f\"filtered_bboxes_{scene_id}_{frame_id}.feather\")\n",
    "print(f\"refined pseudo_label path exists: {os.path.exists(refined_psuedo_label_path)}\")\n",
    "print(refined_psuedo_label_path)\n",
    "refined_psuedo_labels_df = pd.read_feather(refined_psuedo_label_path)\n"
   ]
  },
  {
   "cell_type": "markdown",
   "metadata": {},
   "source": [
    "We have pseudo_labels and refined pseudo_labels. Now, we convert them into right format and compute the metrics"
   ]
  },
  {
   "cell_type": "markdown",
   "metadata": {},
   "source": [
    "First some functions for commputing metrics"
   ]
  },
  {
   "cell_type": "code",
   "execution_count": 10,
   "metadata": {},
   "outputs": [],
   "source": [
    "from shapely.geometry import Polygon\n",
    "\n",
    "\n",
    "def convert_format(boxes_array: np.ndarray) -> Tuple[np.ndarray, List[int]]:\n",
    "    # boxes_array is a numpy array of shape (N, 4, 2)\n",
    "    polygons = []\n",
    "    err_idxs = []\n",
    "    for idx, box in enumerate(boxes_array):\n",
    "        try: \n",
    "            polygon = Polygon([(point[0], point[1]) for point in box] + [(box[0, 0], box[0, 1])])\n",
    "            polygons.append(polygon)\n",
    "        except Exception as e:\n",
    "            print(f\"Error converting bbox at index {idx}: {e}\")\n",
    "            err_idxs.append(idx)\n",
    "                            \n",
    "    return np.array(polygons), err_idxs\n",
    "\n",
    "def compute_iou(box: Polygon, boxes: List[Polygon]):\n",
    "    \"\"\"Calculates IoU of the given box with the array of the given boxes.\n",
    "    Note: the areas are passed in rather than calculated here for efficiency. \n",
    "    Calculate once in the caller to avoid duplicate work.\n",
    "    \n",
    "    Args:\n",
    "        box: a polygon (shapely.geometry.Polygon)\n",
    "        boxes: a numpy array of shape (N,), where each member is a shapely.geometry.Polygon\n",
    "    Returns:\n",
    "        a numpy array of shape (N,) containing IoU values\n",
    "    \"\"\"\n",
    "    iou_lst = []\n",
    "    for b in boxes:\n",
    "        intersection = box.intersection(b).area\n",
    "        union = box.union(b).area\n",
    "        iou = intersection / union if union > 0 else 0\n",
    "        iou_lst.append(iou)\n",
    "    return np.array(iou_lst, dtype=np.float32)\n",
    "\n",
    "\n",
    "def compute_overlaps(boxes1: np.ndarray, boxes2: np.ndarray):\n",
    "    \"\"\"Computes IoU overlaps between two sets of boxes.\n",
    "    Returns an overlap matrix, which contains the IoU value for each combination of boxes.\n",
    "    For better performance, pass the largest set first and the smaller second.\n",
    "    \n",
    "    Args: \n",
    "        boxes1: a numpy array of shape (N, 4, 2)\n",
    "        boxes2: a numpy array of shape (M, 4, 2)\n",
    "    Returns:\n",
    "        overlaps: a numpy array of shape (N, M)\n",
    "    \"\"\"\n",
    "    \n",
    "    boxes1, _ = convert_format(boxes1)\n",
    "    boxes2, _ = convert_format(boxes2)\n",
    "    overlaps = np.zeros((len(boxes1), len(boxes2)))\n",
    "    for i in range(overlaps.shape[1]):\n",
    "        box2 = boxes2[i]\n",
    "        overlaps[:, i] = compute_iou(box2, boxes1)\n",
    "    return overlaps\n",
    "\n",
    "\n",
    "def compute_matches(gt_boxes: np.ndarray, #label_list\n",
    "                    pred_boxes: np.ndarray, # corner_list\n",
    "                    iou_threshold=0.5, score_threshold=0.0):\n",
    "    \"\"\"Finds matches between prediction and ground truth instances.\n",
    "    \n",
    "    Args:\n",
    "        gt_boxes: [N, 4, 2] Coordinates of ground truth boxes\n",
    "        pred_boxes: [N, 4, 2] Coordinates of predicted boxes\n",
    "        pred_scores: [N,] Confidence scores of predicted boxes\n",
    "        iou_threshold: Float. IoU threshold to determine a match.\n",
    "        score_threshold: Float. Score threshold to determine a match.\n",
    "    Returns:\n",
    "        gt_match: 1-D array. For each GT box it has the index of the matched\n",
    "                  predicted box.\n",
    "        pred_match: 1-D array. For each predicted box, it has the index of\n",
    "                    the matched ground truth box.\n",
    "        overlaps: [pred_boxes, gt_boxes] IoU overlaps.\n",
    "    \"\"\"\n",
    "    if len(pred_boxes) == 0:\n",
    "        return -1 * np.ones([gt_boxes.shape[0]]), np.array([]), np.array([])\n",
    "    \n",
    "    pred_scores = np.ones((len(pred_boxes),))\n",
    "\n",
    "    gt_class_ids = np.ones(len(gt_boxes), dtype=int)\n",
    "    pred_class_ids = np.ones(len(pred_scores), dtype=int)\n",
    "\n",
    "    # Sort predictions by score from high to low\n",
    "    indices = np.argsort(pred_scores)[::-1]\n",
    "    pred_boxes = pred_boxes[indices]\n",
    "    pred_class_ids = pred_class_ids[indices]\n",
    "    pred_scores = pred_scores[indices]\n",
    "\n",
    "    # Compute IoU overlaps [pred_boxes, gt_boxes]\n",
    "    overlaps = compute_overlaps(pred_boxes, gt_boxes)\n",
    "\n",
    "    # Loop through predictions and find matching ground truth boxes\n",
    "    match_count = 0\n",
    "    pred_match = -1 * np.ones([pred_boxes.shape[0]])\n",
    "    gt_match = -1 * np.ones([gt_boxes.shape[0]])\n",
    "    for i in range(len(pred_boxes)):\n",
    "        # Find best matching ground truth box\n",
    "        # 1. Sort matches by score\n",
    "        sorted_ixs = np.argsort(overlaps[i])[::-1]\n",
    "        # 2. Remove low scores\n",
    "        low_score_idx = np.where(overlaps[i, sorted_ixs] < score_threshold)[0] #np.where returns a tuple (array, ) for 1D np array\n",
    "        if low_score_idx.size > 0:\n",
    "            sorted_ixs = sorted_ixs[:low_score_idx[0]]\n",
    "        # 3. Find the match\n",
    "        for j in sorted_ixs: \n",
    "            # If ground truth box is already matched, go to next one\n",
    "            if gt_match[j] > 0:\n",
    "                continue\n",
    "            # If we reach IoU smaller than the threshold, end the loop\n",
    "            iou = overlaps[i, j]\n",
    "            if iou < iou_threshold:\n",
    "                break #NOTE: sorted_ixs is in descending order, so if iou < iou_threshold, all the following ious will be less than iou_threshold\n",
    "            # Do we have a match?\n",
    "            if pred_class_ids[i] == gt_class_ids[j]:\n",
    "                match_count += 1\n",
    "                gt_match[j] = i\n",
    "                pred_match[i] = j\n",
    "                break\n",
    "\n",
    "    return gt_match, pred_match, overlaps\n",
    "\n",
    "def compute_ap(pred_match: np.ndarray, num_gt: int, num_pred: int):\n",
    "    \"\"\" Compute Average Precision at a set IoU threshold (default 0.5).\n",
    "\n",
    "        Args:\n",
    "            pred_match: 1-D array. For each predicted box, it has the index of\n",
    "                        the matched ground truth box.\n",
    "            num_gt: Number of ground truth boxes\n",
    "            num_pred: Number of predicted boxes\n",
    "    \"\"\"\n",
    "    tp = (pred_match > -1).sum()\n",
    "    # Compute precision and recall at each prediction box step\n",
    "    precisions = np.cumsum(pred_match > -1) / (np.arange(num_pred) + 1)\n",
    "    recalls = np.cumsum(pred_match > -1).astype(np.float32) / num_gt        \n",
    "        \n",
    "    precision = tp / num_pred\n",
    "    recall = tp / num_gt\n",
    "    return precision, recall\n",
    "\n",
    "def compute_ap2(pred_match: np.ndarray, num_gt: int, num_pred: int) -> Tuple:\n",
    "    \"\"\" Compute Average Precision at a set IoU threshold (default 0.5).\n",
    "\n",
    "        Args:\n",
    "            pred_match: 1-D array. For each predicted box, it has the index of\n",
    "                        the matched ground truth box.\n",
    "            num_gt: Number of ground truth boxes\n",
    "            num_pred: Number of predicted boxes\n",
    "            \n",
    "        Returns:\n",
    "            mAP: mean average precision\n",
    "            precisions: precision values at each recall threshold\n",
    "            recalls: recall values at each precision threshold\n",
    "            precision: precision value\n",
    "            recall: recall value\n",
    "    \"\"\"\n",
    "    print(f\"METHOD: compute_ap was called\")\n",
    "    assert num_gt != 0\n",
    "    # assert num_pred != 0\n",
    "    \n",
    "    # Handle case when there are no predictions\n",
    "    if num_pred == 0:\n",
    "        print(f\"METHOD: compute_ap: No predictions\")\n",
    "        # If there are no predictions, precision is 0 and recall depends on gt\n",
    "        mAP = 0.0\n",
    "        precisions = np.array([0,0])\n",
    "        recalls = np.array([0, 1])  # Recall jumps from 0 to 1 over the recall range\n",
    "        precision = 0.0\n",
    "        recall = 0.0\n",
    "        return mAP, precisions, recalls, precision, recall\n",
    "    \n",
    "    tp = (pred_match > -1).sum()\n",
    "    # Compute precision and recall at each prediction box step\n",
    "    precisions = np.cumsum(pred_match > -1) / (np.arange(num_pred) + 1)\n",
    "    recalls = np.cumsum(pred_match > -1).astype(np.float32) / num_gt\n",
    "\n",
    "    # Pad with start and end values to simplify the math\n",
    "    precisions = np.concatenate([[0], precisions, [0]])\n",
    "    recalls = np.concatenate([[0], recalls, [1]])\n",
    "\n",
    "    # Ensure precision values decrease but don't increase. This way, the\n",
    "    # precision value at each recall threshold is the maximum it can be\n",
    "    # for all following recall thresholds, as specified by the VOC paper.\n",
    "    for i in range(len(precisions) - 2, -1, -1):\n",
    "        precisions[i] = np.maximum(precisions[i], precisions[i + 1])\n",
    "\n",
    "    # Compute mean AP over recall range\n",
    "    indices = np.where(recalls[:-1] != recalls[1:])[0] + 1\n",
    "    mAP = np.sum((recalls[indices] - recalls[indices - 1]) *\n",
    "                 precisions[indices])\n",
    "    precision = tp / num_pred\n",
    "    recall = tp / num_gt\n",
    "    return mAP, precisions, recalls, precision, recall\n"
   ]
  },
  {
   "cell_type": "markdown",
   "metadata": {},
   "source": [
    "Convert pseudo_labels and refined pseudo-labels into 4 corner format"
   ]
  },
  {
   "cell_type": "code",
   "execution_count": 11,
   "metadata": {},
   "outputs": [],
   "source": [
    "from prototype_utils import bboxes_df_to_numpy_corners\n",
    "\n",
    "pseudo_labels_corners = bboxes_df_to_numpy_corners(pseudo_labels_df)\n",
    "refined_psuedo_labels_corners = bboxes_df_to_numpy_corners(refined_psuedo_labels_df)"
   ]
  },
  {
   "cell_type": "markdown",
   "metadata": {},
   "source": [
    "Now we compute metricss. To compute metrics, first compute matches, and then actually compute metrics."
   ]
  },
  {
   "cell_type": "code",
   "execution_count": 12,
   "metadata": {},
   "outputs": [
    {
     "data": {
      "text/plain": [
       "(0.05084745762711865, 0.03571428571428571)"
      ]
     },
     "execution_count": 12,
     "metadata": {},
     "output_type": "execute_result"
    }
   ],
   "source": [
    "gt_match, pseudo_label_matches, overlaps = compute_matches(gt_corners, pseudo_labels_corners)\n",
    "gt_length = len(gt_corners)\n",
    "pseudo_label_length = len(pseudo_labels_corners)\n",
    "compute_ap(pseudo_label_matches, gt_length, pseudo_label_length)"
   ]
  },
  {
   "cell_type": "code",
   "execution_count": 13,
   "metadata": {},
   "outputs": [
    {
     "data": {
      "text/plain": [
       "(0.03125, 0.023809523809523808)"
      ]
     },
     "execution_count": 13,
     "metadata": {},
     "output_type": "execute_result"
    }
   ],
   "source": [
    "gt_match, refined_pseudo_label_matches, overlaps = compute_matches(gt_corners, refined_psuedo_labels_corners)\n",
    "\n",
    "refined_ps_len = len(refined_psuedo_labels_corners)\n",
    "\n",
    "compute_ap(refined_pseudo_label_matches, gt_length, refined_ps_len)"
   ]
  },
  {
   "cell_type": "markdown",
   "metadata": {},
   "source": [
    "Great!! Now let's plot the pr curve of this using compute_ap2"
   ]
  },
  {
   "cell_type": "code",
   "execution_count": 14,
   "metadata": {},
   "outputs": [],
   "source": [
    "import matplotlib.pyplot as plt\n",
    "\n",
    "def plot_pr_curve_in_notebook(precisions, recalls, legend, name='PRCurve'):\n",
    "    \"\"\"\n",
    "    Plot Precision-Recall Curve in a notebook environment.\n",
    "\n",
    "    Args:\n",
    "        precisions (list or np.ndarray): Precision values.\n",
    "        recalls (list or np.ndarray): Recall values.\n",
    "        legend (str): Legend text to display on the plot.\n",
    "        name (str): Title of the plot.\n",
    "    \"\"\"\n",
    "    fig, ax = plt.subplots()\n",
    "    ax.plot(recalls, precisions, \"-.\", label=legend)\n",
    "    ax.set_title(f\"Precision-Recall Curve: {name}\")\n",
    "    ax.set_xlabel(\"Recall\")\n",
    "    ax.set_ylabel(\"Precision\")\n",
    "    ax.legend(loc='upper right')\n",
    "    ax.grid(True)\n",
    "    plt.show()\n",
    "\n",
    "# legend = f\"AP@{mAP:.2f}\"\n",
    "# plot_pr_curve_in_notebook(precisions, recalls, legend)"
   ]
  },
  {
   "cell_type": "code",
   "execution_count": 15,
   "metadata": {},
   "outputs": [
    {
     "name": "stdout",
     "output_type": "stream",
     "text": [
      "METHOD: compute_ap was called\n"
     ]
    },
    {
     "data": {
      "image/png": "[encoded data removed]",
      "text/plain": [
       "<Figure size 640x480 with 1 Axes>"
      ]
     },
     "metadata": {},
     "output_type": "display_data"
    }
   ],
   "source": [
    "ps_original = compute_ap2(pseudo_label_matches, gt_length, pseudo_label_length)\n",
    "\n",
    "plot_pr_curve_in_notebook(ps_original[1], ps_original[2], f\"AP@{ps_original[0]:.2f}\", \"Original Pseudo Labels\")"
   ]
  },
  {
   "cell_type": "code",
   "execution_count": 16,
   "metadata": {},
   "outputs": [
    {
     "name": "stdout",
     "output_type": "stream",
     "text": [
      "METHOD: compute_ap was called\n"
     ]
    },
    {
     "data": {
      "image/png": "[encoded data removed]",
      "text/plain": [
       "<Figure size 640x480 with 1 Axes>"
      ]
     },
     "metadata": {},
     "output_type": "display_data"
    }
   ],
   "source": [
    "ps_refined = compute_ap2(refined_pseudo_label_matches, gt_length, refined_ps_len)\n",
    "\n",
    "plot_pr_curve_in_notebook(ps_refined[1], ps_refined[2], f\"AP@{ps_refined[0]:.2f}\", \"Refined Pseudo Labels\")"
   ]
  }
 ],
 "metadata": {
  "kernelspec": {
   "display_name": "pixo",
   "language": "python",
   "name": "python3"
  },
  "language_info": {
   "codemirror_mode": {
    "name": "ipython",
    "version": 3
   },
   "file_extension": ".py",
   "mimetype": "text/x-python",
   "name": "python",
   "nbconvert_exporter": "python",
   "pygments_lexer": "ipython3",
   "version": "3.8.18"
  }
 },
 "nbformat": 4,
 "nbformat_minor": 2
}
