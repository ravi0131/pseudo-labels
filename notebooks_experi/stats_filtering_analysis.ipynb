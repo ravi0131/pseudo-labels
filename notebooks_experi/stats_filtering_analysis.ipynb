{
 "cells": [
  {
   "cell_type": "code",
   "execution_count": 2,
   "metadata": {},
   "outputs": [],
   "source": [
    "import sys\n",
    "import os\n",
    "\n",
    "# Add the src directory to the Python path\n",
    "sys.path.append(os.path.abspath(\"..\"))"
   ]
  },
  {
   "cell_type": "code",
   "execution_count": 3,
   "metadata": {},
   "outputs": [],
   "source": [
    "import os\n",
    "from av2.datasets.sensor.av2_sensor_dataloader import AV2SensorDataLoader\n",
    "from pathlib import Path\n",
    "from av2.structures.sweep import Sweep\n",
    "\n",
    "\n",
    "home = os.path.join(os.path.expanduser('~'), \"buni\")\n",
    "\n",
    "dataset_path = Path(os.path.join(home, \"dataset\", \"av2\", \"train\"))\n",
    "\n",
    "av2 = AV2SensorDataLoader(data_dir=dataset_path, labels_dir=dataset_path)\n",
    "\n",
    "scene_idx = 0\n",
    "frame_idx = 0\n",
    "\n",
    "scene_id = av2.get_log_ids()[scene_idx]\n",
    "frame_id = av2.get_ordered_log_lidar_timestamps(scene_id)[frame_idx]\n",
    "frame_path = av2.get_lidar_fpath_at_lidar_timestamp(scene_id, frame_id)\n",
    "\n",
    "points = Sweep.from_feather(frame_path).xyz"
   ]
  },
  {
   "cell_type": "code",
   "execution_count": null,
   "metadata": {},
   "outputs": [],
   "source": [
    "bbboxes_path = os.path.join(home, \"output-data\", \"av2\", \"test_bbox_script\")"
   ]
  }
 ],
 "metadata": {
  "kernelspec": {
   "display_name": "av2torchv",
   "language": "python",
   "name": "python3"
  },
  "language_info": {
   "codemirror_mode": {
    "name": "ipython",
    "version": 3
   },
   "file_extension": ".py",
   "mimetype": "text/x-python",
   "name": "python",
   "nbconvert_exporter": "python",
   "pygments_lexer": "ipython3",
   "version": "3.8.20"
  }
 },
 "nbformat": 4,
 "nbformat_minor": 2
}
