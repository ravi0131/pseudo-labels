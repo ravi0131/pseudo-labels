{
 "cells": [
  {
   "cell_type": "code",
   "execution_count": null,
   "metadata": {},
   "outputs": [],
   "source": [
    "import sys\n",
    "import os\n",
    "\n",
    "# Add the src directory to the Python path\n",
    "sys.path.append(os.path.abspath(\"..\"))"
   ]
  },
  {
   "cell_type": "code",
   "execution_count": null,
   "metadata": {},
   "outputs": [],
   "source": [
    "import os\n",
    "from av2.datasets.sensor.av2_sensor_dataloader import AV2SensorDataLoader\n",
    "from pathlib import Path\n",
    "from av2.structures.sweep import Sweep\n",
    "import pandas as pd\n",
    "import numpy as np\n",
    "import matplotlib.pyplot as plt\n",
    "from config import CONFIG\n",
    "from prototype_utils import plot_point_cloud_and_bboxes,  bboxes_df_to_numpy_corners, filter_roi"
   ]
  },
  {
   "cell_type": "code",
   "execution_count": null,
   "metadata": {},
   "outputs": [],
   "source": [
    "home = os.path.join(os.path.expanduser('~'), CONFIG['HOME_PATH'][CONFIG['OS']])\n",
    "\n",
    "dataset_path = Path(os.path.join(home, \"dataset\", \"av2\", \"train\"))\n",
    "\n",
    "av2 = AV2SensorDataLoader(data_dir=dataset_path, labels_dir=dataset_path)\n",
    "\n",
    "scene_idx = 2\n",
    "frame_idx = 10\n",
    "\n",
    "scene_id = av2.get_log_ids()[scene_idx]\n",
    "frame_id = av2.get_ordered_log_lidar_timestamps(scene_id)[frame_idx]\n",
    "frame_path = av2.get_lidar_fpath_at_lidar_timestamp(scene_id, frame_id)\n",
    "\n",
    "points = Sweep.from_feather(frame_path).xyz"
   ]
  },
  {
   "cell_type": "code",
   "execution_count": null,
   "metadata": {},
   "outputs": [],
   "source": [
    "ps_path = os.path.join(home, *CONFIG['BBOX_FILE_PATHS']['ROI'])\n",
    "\n",
    "scene_id = os.listdir(ps_path)[scene_idx]\n",
    "scene_path = os.path.join(ps_path, scene_id)\n",
    "\n",
    "frame_id = os.listdir(scene_path)[frame_idx]\n",
    "frame_path = os.path.join(ps_path, scene_id, frame_id)"
   ]
  },
  {
   "cell_type": "code",
   "execution_count": null,
   "metadata": {},
   "outputs": [],
   "source": [
    "scene_id, frame_id"
   ]
  },
  {
   "cell_type": "code",
   "execution_count": null,
   "metadata": {},
   "outputs": [],
   "source": [
    "bboxes_df = pd.read_feather(frame_path)\n",
    "bboxes_df.head()"
   ]
  },
  {
   "cell_type": "code",
   "execution_count": null,
   "metadata": {},
   "outputs": [],
   "source": [
    "bboxes_np = bboxes_df_to_numpy_corners(bboxes_df)"
   ]
  },
  {
   "cell_type": "code",
   "execution_count": null,
   "metadata": {},
   "outputs": [],
   "source": [
    "points_roi = filter_roi(points)"
   ]
  },
  {
   "cell_type": "code",
   "execution_count": null,
   "metadata": {},
   "outputs": [],
   "source": [
    "plot_point_cloud_and_bboxes(points_roi[:,:2], bboxes_np, title=\"BEV Point Cloud\")"
   ]
  },
  {
   "cell_type": "code",
   "execution_count": null,
   "metadata": {},
   "outputs": [],
   "source": [
    "bboxes_df['aspect_ratio'] = bboxes_df['box_width'] / bboxes_df['box_length']\n",
    "bboxes_df['aspect_ratio']\n",
    "\n",
    "bboxes_df['area'] = bboxes_df['box_width'] * bboxes_df['box_length']"
   ]
  },
  {
   "cell_type": "code",
   "execution_count": null,
   "metadata": {},
   "outputs": [],
   "source": [
    "bboxes_df.head()"
   ]
  },
  {
   "cell_type": "code",
   "execution_count": null,
   "metadata": {},
   "outputs": [],
   "source": [
    "bboxes_df.hist(column='aspect_ratio', bins=50, range=(0, 1))"
   ]
  },
  {
   "cell_type": "code",
   "execution_count": null,
   "metadata": {},
   "outputs": [],
   "source": [
    "def plot_aspect_ratio_vs_area(df, aspect_ratio_col, area_col, title=\"Scatter Plot of Aspect Ratio vs Area\"):\n",
    "    \"\"\"\n",
    "    Plots a scatter plot of aspect ratio vs area.\n",
    "\n",
    "    Args:\n",
    "        df (pd.DataFrame): The DataFrame containing aspect ratio and area.\n",
    "        aspect_ratio_col (str): The column name for aspect ratios in the DataFrame.\n",
    "        area_col (str): The column name for areas in the DataFrame.\n",
    "        title (str): The title of the scatter plot.\n",
    "    \"\"\"\n",
    "    plt.figure(figsize=(8, 6))\n",
    "    plt.scatter(df[aspect_ratio_col], df[area_col], alpha=0.7, edgecolor='k')\n",
    "    plt.title(title, fontsize=14)\n",
    "    plt.xlabel('Aspect Ratio', fontsize=12)\n",
    "    plt.ylabel('Area', fontsize=12)\n",
    "    plt.grid(True)\n",
    "    plt.show()\n",
    "\n",
    "# Example usage:\n",
    "plot_aspect_ratio_vs_area(bboxes_df, 'aspect_ratio', 'area')\n"
   ]
  },
  {
   "cell_type": "code",
   "execution_count": null,
   "metadata": {},
   "outputs": [],
   "source": [
    "from stats_filter2 import apply_rect_filter, apply_large_sq_filter\n",
    "\n",
    "config_rect_filter = CONFIG['RECT_FILTER_THRESHOLDS']['ROI']['IOU_THRESHOLD_0.3']\n",
    "config_sq_filter = CONFIG['SQUARE_FILTER_THRESHOLDS']['ROI']['IOU_THRESHOLD_0.3']\n",
    "\n",
    "rect_filter_max_ratio = config_rect_filter['MAX_RATIO']\n",
    "rect_filter_max_area = config_rect_filter['MAX_AREA']\n",
    "\n",
    "sq_filter_min_ratio = config_sq_filter['MIN_RATIO']\n",
    "sq_filter_min_area = config_sq_filter['MIN_AREA']\n",
    "\n",
    "_, rect_filter_df = apply_rect_filter(bboxes_df, 'aspect_ratio', 'area',rect_filter_max_ratio,rect_filter_max_area )\n",
    "\n",
    "_ , square_filter_df = apply_large_sq_filter(bboxes_df, 'aspect_ratio', 'area', sq_filter_min_ratio, sq_filter_min_area)\n",
    "\n",
    "_ , combined_df = apply_large_sq_filter(rect_filter_df, 'aspect_ratio', 'area', sq_filter_min_ratio, sq_filter_min_area)"
   ]
  },
  {
   "cell_type": "code",
   "execution_count": null,
   "metadata": {},
   "outputs": [],
   "source": [
    "plot_point_cloud_and_bboxes(points_roi[:,:2],\n",
    "                            bboxes_df_to_numpy_corners(rect_filter_df),\n",
    "                            title=\"Rects_filter applied\")"
   ]
  },
  {
   "cell_type": "code",
   "execution_count": null,
   "metadata": {},
   "outputs": [],
   "source": [
    "plot_point_cloud_and_bboxes(points_roi[:,:2],\n",
    "                            bboxes_df_to_numpy_corners(square_filter_df),\n",
    "                            title=\"Square Filter\")"
   ]
  },
  {
   "cell_type": "code",
   "execution_count": null,
   "metadata": {},
   "outputs": [],
   "source": [
    "plot_point_cloud_and_bboxes(points_roi[:,:2],\n",
    "                            bboxes_df_to_numpy_corners(combined_df),\n",
    "                            title=\"Combined Filter\")"
   ]
  }
 ],
 "metadata": {
  "kernelspec": {
   "display_name": "pixo",
   "language": "python",
   "name": "python3"
  },
  "language_info": {
   "codemirror_mode": {
    "name": "ipython",
    "version": 3
   },
   "file_extension": ".py",
   "mimetype": "text/x-python",
   "name": "python",
   "nbconvert_exporter": "python",
   "pygments_lexer": "ipython3",
   "version": "3.8.18"
  }
 },
 "nbformat": 4,
 "nbformat_minor": 2
}
