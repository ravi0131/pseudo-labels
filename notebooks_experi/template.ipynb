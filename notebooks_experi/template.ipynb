{
 "cells": [
  {
   "cell_type": "code",
   "execution_count": null,
   "metadata": {},
   "outputs": [],
   "source": [
    "import sys\n",
    "import os\n",
    "\n",
    "# Add the src directory to the Python path\n",
    "sys.path.append(os.path.abspath(\"..\"))"
   ]
  },
  {
   "cell_type": "code",
   "execution_count": null,
   "metadata": {},
   "outputs": [],
   "source": [
    "import os\n",
    "from av2.datasets.sensor.av2_sensor_dataloader import AV2SensorDataLoader\n",
    "from pathlib import Path\n",
    "from av2.structures.sweep import Sweep"
   ]
  },
  {
   "cell_type": "markdown",
   "metadata": {},
   "source": []
  },
  {
   "cell_type": "code",
   "execution_count": null,
   "metadata": {},
   "outputs": [],
   "source": [
    "home = os.path.join(os.path.expanduser('~'), CONFIG['HOME_PATH'][CONFIG['OS']])\n",
    "dataset_path = Path(os.path.join(home, *CONFIG['AV2_DATASET_PATH']))\n",
    "av2 = AV2SensorDataLoader(data_dir=dataset_path, labels_dir=dataset_path)"
   ]
  },
  {
   "cell_type": "code",
   "execution_count": null,
   "metadata": {},
   "outputs": [],
   "source": [
    "scene_idx = 0\n",
    "frame_idx = 0\n",
    "\n",
    "scene_id = av2.get_log_ids()[scene_idx]\n",
    "frame_id = av2.get_ordered_log_lidar_timestamps(scene_id)[frame_idx]\n",
    "frame_path = av2.get_lidar_fpath_at_lidar_timestamp(scene_id, frame_id)\n",
    "\n",
    "points = Sweep.from_feather(frame_path).xyz"
   ]
  }
 ],
 "metadata": {
  "kernelspec": {
   "display_name": "pixo",
   "language": "python",
   "name": "python3"
  },
  "language_info": {
   "name": "python",
   "version": "3.8.18"
  }
 },
 "nbformat": 4,
 "nbformat_minor": 2
}
