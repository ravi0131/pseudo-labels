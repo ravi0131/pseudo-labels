{
 "cells": [
  {
   "cell_type": "markdown",
   "metadata": {},
   "source": [
    "This notebook is to prototype for a script that performs grid search for filtering narrow rectangles"
   ]
  },
  {
   "cell_type": "code",
   "execution_count": 1,
   "metadata": {},
   "outputs": [],
   "source": [
    "import sys\n",
    "import os\n",
    "\n",
    "# Add the src directory to the Python path\n",
    "sys.path.append(os.path.abspath(\"..\"))"
   ]
  },
  {
   "cell_type": "markdown",
   "metadata": {},
   "source": [
    "All Imports"
   ]
  },
  {
   "cell_type": "code",
   "execution_count": 2,
   "metadata": {},
   "outputs": [],
   "source": [
    "import numpy as np\n",
    "import pandas as pd\n",
    "from config import CONFIG"
   ]
  },
  {
   "cell_type": "markdown",
   "metadata": {},
   "source": [
    "Directory structue\n",
    "+ ar_threshold_0.1\n",
    "++ area_threshold_0\n",
    "    + scene_00\n",
    "        + frame_00\n",
    "            + large_squares\n",
    "            + rest_boxes\n",
    "        + frame_01\n",
    "        + ..\n",
    "    + scene_01\n",
    "    + ...\n",
    "++ area_threshold_10\n",
    "++ area_threhold_20\n",
    "++ ...\n",
    "\n",
    "If you save the filtered bboxes according to this structure, then you can calculate the metrics for a given combination for all frame in all scenes. "
   ]
  },
  {
   "cell_type": "code",
   "execution_count": 3,
   "metadata": {},
   "outputs": [],
   "source": [
    "home = os.path.join(os.path.expanduser(\"~\"), CONFIG['HOME_PATH'][CONFIG['OS']])\n",
    "\n",
    "ps_base_path = os.path.join(home, *CONFIG['BBOX_FILE_PATHS']['ROI'])\n",
    "if CONFIG['ROI']:\n",
    "    grid_sq_save_path = os.path.join(home, *CONFIG['GRID_SEARCH_SQUARE']['PATH']['ROI'])\n",
    "else:\n",
    "    grid_sq_save_path = os.path.join(home, *CONFIG['GRID_SEARCH_SQUARE']['PATH']['FULL_RANGE'])\n",
    "\n",
    "scene_idx = 0\n",
    "frame_idx = 0\n"
   ]
  },
  {
   "cell_type": "code",
   "execution_count": 4,
   "metadata": {},
   "outputs": [],
   "source": [
    "aspect_ratio_config = CONFIG['GRID_SEARCH_SQUARE']['ASPECT_RATIO']\n",
    "area_config = CONFIG['GRID_SEARCH_SQUARE']['AREA']\n",
    "sq_ar_range = np.arange(*aspect_ratio_config['RANGE'], aspect_ratio_config['STEP'])\n",
    "sq_area_range = np.arange(*area_config['RANGE'], area_config['STEP'])"
   ]
  },
  {
   "cell_type": "code",
   "execution_count": 5,
   "metadata": {},
   "outputs": [],
   "source": [
    "scene_id = os.listdir(ps_base_path)[scene_idx]\n",
    "scene_path= os.path.join(ps_base_path, scene_id)\n",
    "\n",
    "frame_id = os.listdir(scene_path)[frame_idx]\n",
    "frame_path = os.path.join(scene_path, frame_id)"
   ]
  },
  {
   "cell_type": "code",
   "execution_count": 6,
   "metadata": {},
   "outputs": [],
   "source": [
    "def apply_large_sq_filter(df, aspect_ratio_col, area_col, min_ratio, min_area):\n",
    "    \"\"\"\n",
    "    Filters bounding boxes to identify large squares based on a single condition.\n",
    "\n",
    "    Args:\n",
    "        df (pd.DataFrame): DataFrame containing bounding box information.\n",
    "        aspect_ratio_col (str): Column name for aspect ratios in the DataFrame.\n",
    "        area_col (str): Column name for areas in the DataFrame.\n",
    "        min_ratio (float): Minimum aspect ratio tolerance (ε).\n",
    "        min_area (float): Minimum area for large squares (T_LargeArea).\n",
    "\n",
    "    Returns:\n",
    "        tuple: (large_squares, rest_boxes)\n",
    "            - large_squares (pd.DataFrame): Subset of the DataFrame containing bounding boxes classified as large squares.\n",
    "            - rest_boxes (pd.DataFrame): Subset of the DataFrame containing all other bounding boxes.\n",
    "    \"\"\"\n",
    "    # Create a single mask for large squares\n",
    "    large_square_mask = (df[aspect_ratio_col] >= min_ratio) & (df[aspect_ratio_col] <= 1.0) & (df[area_col] > min_area)\n",
    "\n",
    "    # Apply the mask to separate large squares and other rectangles\n",
    "    large_squares = df[large_square_mask]\n",
    "    rest_boxes = df[~large_square_mask]  # Complement of the large square mask\n",
    "\n",
    "    # Reset the indices for both DataFrames\n",
    "    large_squares.reset_index(drop=True, inplace=True)\n",
    "    rest_boxes.reset_index(drop=True, inplace=True)\n",
    "\n",
    "    return large_squares, rest_boxes"
   ]
  },
  {
   "cell_type": "markdown",
   "metadata": {},
   "source": [
    "Define functions to filter by aspect ratio and area for a given values of thresholds"
   ]
  },
  {
   "cell_type": "code",
   "execution_count": 7,
   "metadata": {},
   "outputs": [],
   "source": [
    "def grid_search_square_filter(input_path, ar_range, area_range,base_save_path ,config):\n",
    "    # print(f\"Processing {input_frame_path}\")\n",
    "    aspect_ratio_dir = config['GRID_SEARCH_RECT']['AR_THRESHOLD_BASE_DIR_NAME']\n",
    "    area_dir = config['GRID_SEARCH_RECT']['AREA_THRESHOLD_BASE_DIR_NAME']\n",
    "    for _, aspect_ratio in enumerate(ar_range):\n",
    "        ar_dir_name = f\"{aspect_ratio_dir}_{aspect_ratio:.1f}\"\n",
    "        \n",
    "        for _, area in enumerate(area_range):\n",
    "            area_dir_name = f\"{area_dir}_{area}\"\n",
    "            \n",
    "            for scene in os.listdir(input_path):\n",
    "                scene_path = os.path.join(input_path, scene)    \n",
    "                \n",
    "                for frame in os.listdir(scene_path):\n",
    "                    frame_id = frame.split(\".\")[0]\n",
    "                    frame_path = os.path.join(scene_path, frame)\n",
    "                    \n",
    "                    # print(f\"Processing {frame_path}\")\n",
    "                    # print(f\"Aspect Ratio: {aspect_ratio}, Area: {area}\")\n",
    "                    df = pd.read_feather(frame_path)\n",
    "                    \n",
    "                    df['aspect_ratio'] = df['box_width'] /df['box_length']\n",
    "                    df['area'] = df['box_width'] * df['box_length']\n",
    "                    large_squares_df, rest_boxes_df = apply_large_sq_filter(df, 'aspect_ratio', 'area', aspect_ratio, area)\n",
    "                    \n",
    "                    # print(large_squares_df.head())\n",
    "                    # print(rest_boxes_df.head())\n",
    "                    save_path = os.path.join(base_save_path, ar_dir_name, area_dir_name, scene, frame_id)\n",
    "                    # print(save_path)\n",
    "                    os.makedirs(save_path, exist_ok=True)\n",
    "                    \n",
    "                    large_squares_df.to_feather(os.path.join(save_path, \"large_squares.feather\"))\n",
    "                    rest_boxes_df.to_feather(os.path.join(save_path, \"rest_boxes.feather\"))"
   ]
  },
  {
   "cell_type": "code",
   "execution_count": 8,
   "metadata": {},
   "outputs": [],
   "source": [
    "grid_search_square_filter(ps_base_path, sq_ar_range, sq_area_range, grid_sq_save_path, CONFIG)"
   ]
  }
 ],
 "metadata": {
  "kernelspec": {
   "display_name": "pixo",
   "language": "python",
   "name": "python3"
  },
  "language_info": {
   "codemirror_mode": {
    "name": "ipython",
    "version": 3
   },
   "file_extension": ".py",
   "mimetype": "text/x-python",
   "name": "python",
   "nbconvert_exporter": "python",
   "pygments_lexer": "ipython3",
   "version": "3.8.18"
  }
 },
 "nbformat": 4,
 "nbformat_minor": 2
}
